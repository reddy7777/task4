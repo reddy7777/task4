{
  "nbformat": 4,
  "nbformat_minor": 0,
  "metadata": {
    "kernelspec": {
      "display_name": "Python 3",
      "language": "python",
      "name": "python3"
    },
    "language_info": {
      "codemirror_mode": {
        "name": "ipython",
        "version": 3
      },
      "file_extension": ".py",
      "mimetype": "text/x-python",
      "name": "python",
      "nbconvert_exporter": "python",
      "pygments_lexer": "ipython3",
      "version": "3.8.8"
    },
    "colab": {
      "name": "Cyr_T 4_Assesment 2B.ipynb",
      "provenance": []
    }
  },
  "cells": [
    {
      "cell_type": "markdown",
      "metadata": {
        "id": "7oo2qiTF7e1F"
      },
      "source": [
        "###### Assessment"
      ]
    },
    {
      "cell_type": "markdown",
      "metadata": {
        "id": "PdoxZ-6V7e1U"
      },
      "source": [
        "###### I am going to provide two .csv files , you are supposed to work on them and have to provide solutions to the following problems"
      ]
    },
    {
      "cell_type": "markdown",
      "metadata": {
        "id": "gNDJS_Ci7e1V"
      },
      "source": [
        "###### import necessary libraries"
      ]
    },
    {
      "cell_type": "code",
      "metadata": {
        "id": "p4MNhEXx7e1X"
      },
      "source": [
        "import os, glob\n",
        "import pandas as pd\n",
        "\n",
        "path =r'C:\\Users\\Yella Reddy\\Desktop\\task 4'"
      ],
      "execution_count": null,
      "outputs": []
    },
    {
      "cell_type": "markdown",
      "metadata": {
        "id": "eYfKM97o7e1Z"
      },
      "source": [
        "###### merge those two csv files (after getting as dataframes, get them as a single dataframe)"
      ]
    },
    {
      "cell_type": "code",
      "metadata": {
        "id": "PmySqUC57e1a"
      },
      "source": [
        "all_files = glob.glob(os.path.join(path, \"*.csv\"))\n",
        "df_from_each_file = (pd.read_csv(f, sep=',') for f in all_files)\n",
        "df_merged   = pd.concat(df_from_each_file, ignore_index=True)\n",
        "df_merged.to_csv( \"merged.csv\")"
      ],
      "execution_count": null,
      "outputs": []
    },
    {
      "cell_type": "markdown",
      "metadata": {
        "id": "v0CF6y9m7e1b"
      },
      "source": [
        "###### Take each csv file , split that csv file into multiple categories (example csv files are added in the repo) \n"
      ]
    },
    {
      "cell_type": "markdown",
      "metadata": {
        "id": "n4m9uuJz7e1c"
      },
      "source": [
        "###### consider if the codekata score exceeds 15000 points(present week) then make a csv on those observations as Exceeded expectations.csv\n"
      ]
    },
    {
      "cell_type": "markdown",
      "metadata": {
        "id": "NOftY9wg7e1d"
      },
      "source": [
        "###### if  10000<codekata score<15000   (Reached_expectations.csv)\n",
        "\n"
      ]
    },
    {
      "cell_type": "markdown",
      "metadata": {
        "id": "7VQlZQDM7e1e"
      },
      "source": [
        "###### if  7000<codekata score<10000   (Needs_Improvement.csv)\n"
      ]
    },
    {
      "cell_type": "markdown",
      "metadata": {
        "id": "Vwxw4RMO7e1e"
      },
      "source": [
        "###### if  codekate score < 7000        (Unsatisfactory.csv)"
      ]
    },
    {
      "cell_type": "code",
      "metadata": {
        "id": "MG-mNrJI7e1f"
      },
      "source": [
        "final = pd.read_csv(r\"C:\\Users\\Yella Reddy\\Desktop\\task 4\\merged.csv\")"
      ],
      "execution_count": null,
      "outputs": []
    },
    {
      "cell_type": "code",
      "metadata": {
        "id": "kaN8Aflv7e1f"
      },
      "source": [
        "expect =final.loc[(final['CodeKata Score'] >15000)]\n",
        "expect.to_csv(\"exceeded_expectations.csv\")"
      ],
      "execution_count": null,
      "outputs": []
    },
    {
      "cell_type": "code",
      "metadata": {
        "id": "BG8uUxvt7e1g"
      },
      "source": [
        "rexpect =final.loc[(final['CodeKata Score'] >10000) & (final['CodeKata Score'] <=15000)]\n",
        "rexpect.to_csv(\"Reached_expectations.csv\")"
      ],
      "execution_count": null,
      "outputs": []
    },
    {
      "cell_type": "code",
      "metadata": {
        "id": "LJKNlrur7e1g"
      },
      "source": [
        "improve =final.loc[(final['CodeKata Score'] >7000) & (final['CodeKata Score'] <=10000)]\n",
        "improve.to_csv(\"Needs_Improvement.csv\")"
      ],
      "execution_count": null,
      "outputs": []
    },
    {
      "cell_type": "code",
      "metadata": {
        "id": "rWDrgO8g7e1h"
      },
      "source": [
        "unsatisf =final.loc[(final['CodeKata Score'] <7000)]\n",
        "unsatisf.to_csv(\"Unsatisfactory.csv\")"
      ],
      "execution_count": null,
      "outputs": []
    },
    {
      "cell_type": "markdown",
      "metadata": {
        "id": "jdyzDZ-Z7e1h"
      },
      "source": [
        "###### Average of previous week geekions vs this week geekions (i.e Previous Geekions vs CodeKata Score)"
      ]
    },
    {
      "cell_type": "code",
      "metadata": {
        "id": "IFqurEv07e1i",
        "outputId": "a652b81c-646c-47d6-9714-d0f2683104ab"
      },
      "source": [
        "total=final.count()[0]\n",
        "previous_finalavg= (final['Previous Geekions'].sum())/total\n",
        "current_finalavg = (final['CodeKata Score'].sum())/total\n",
        "print(\"final : \"+\"previous avg :\",previous_finalavg)\n",
        "print(\"final : \"+\"current avg :\",current_finalavg)"
      ],
      "execution_count": null,
      "outputs": [
        {
          "name": "stdout",
          "output_type": "stream",
          "text": [
            "final : previous avg : 3842.3529411764707\n",
            "final : current avg : 4051.764705882353\n"
          ]
        }
      ]
    },
    {
      "cell_type": "markdown",
      "metadata": {
        "id": "lw_463Mq7e1j"
      },
      "source": [
        "###### No of students participated "
      ]
    },
    {
      "cell_type": "code",
      "metadata": {
        "scrolled": true,
        "id": "B58Kuo0h7e1j",
        "outputId": "37b4a7fe-9eba-4be0-c378-ff251b939886"
      },
      "source": [
        "print(\"Number of students participated: \",final.count()[0])"
      ],
      "execution_count": null,
      "outputs": [
        {
          "name": "stdout",
          "output_type": "stream",
          "text": [
            "Number of students participated:  119\n"
          ]
        }
      ]
    },
    {
      "cell_type": "markdown",
      "metadata": {
        "id": "QEA0rf5T7e1k"
      },
      "source": [
        "###### #Average completion of python course or my_sql or python english or computational thinking"
      ]
    },
    {
      "cell_type": "code",
      "metadata": {
        "id": "25Iuj6HK7e1k",
        "outputId": "bca6f8a9-c624-4cc2-af83-531ed59ce691"
      },
      "source": [
        "averagecompletion = (final [\"python\"].sum())/total\n",
        "print(averagecompletion)"
      ],
      "execution_count": null,
      "outputs": [
        {
          "name": "stdout",
          "output_type": "stream",
          "text": [
            "54.35294117647059\n"
          ]
        }
      ]
    },
    {
      "cell_type": "markdown",
      "metadata": {
        "id": "59M2STAo7e1l"
      },
      "source": [
        "###### rising star of the week (top 3 candidate who performed well in that particular week)"
      ]
    },
    {
      "cell_type": "code",
      "metadata": {
        "scrolled": true,
        "id": "D_4D5NR_7e1l",
        "outputId": "fc722817-5d26-4249-ab19-4524c6064c98"
      },
      "source": [
        "sorted_df = final.sort_values(by='Rising', ascending=False)\n",
        "result = sorted_df.head(3)\n",
        "print (\"Risings Stars of the week\")\n",
        "print(result['Name'])"
      ],
      "execution_count": null,
      "outputs": [
        {
          "name": "stdout",
          "output_type": "stream",
          "text": [
            "Risings Stars of the week\n",
            "92              shifak N\n",
            "102       Narasimhan Y L\n",
            "86     Ganesh Ramkumar R\n",
            "Name: Name, dtype: object\n"
          ]
        }
      ]
    },
    {
      "cell_type": "markdown",
      "metadata": {
        "id": "FDu953HR7e1m"
      },
      "source": [
        "###### Shining stars of the week (top 3 candidates who has highest geekions)"
      ]
    },
    {
      "cell_type": "code",
      "metadata": {
        "id": "zTSAZOh87e1m",
        "outputId": "d167ec77-7b72-4823-f03f-546cb7c3846e"
      },
      "source": [
        "sorted_df = final.sort_values(by='CodeKata Score', ascending=False)\n",
        "result = sorted_df.head(3)\n",
        "print (\"Shining Stars of the week\")\n",
        "print(result['Name'])"
      ],
      "execution_count": null,
      "outputs": [
        {
          "name": "stdout",
          "output_type": "stream",
          "text": [
            "Shining Stars of the week\n",
            "0      A.Dharani\n",
            "1    V.JEEVITHA \n",
            "2    HEMAVATHI.R\n",
            "Name: Name, dtype: object\n"
          ]
        }
      ]
    },
    {
      "cell_type": "markdown",
      "metadata": {
        "id": "JDe9p4-L7e1n"
      },
      "source": [
        "###### Department wise codekata performence (pie chart)"
      ]
    },
    {
      "cell_type": "code",
      "metadata": {
        "id": "abuEV_Nt7e1s",
        "outputId": "35bbd2f8-1210-47b1-d951-43e6a09cea38"
      },
      "source": [
        "\n",
        "from matplotlib.pyplot import pie, axis, show\n",
        "%matplotlib inline\n",
        "\n",
        "\n",
        "sums = final.groupby(final[\"Department\"])[\"CodeKata Score\"].sum()\n",
        "axis('equal');\n",
        "pie(sums, labels=sums.index);\n",
        "show()\n"
      ],
      "execution_count": null,
      "outputs": [
        {
          "data": {
            "image/png": "[encoded data removed]",
            "text/plain": [
              "<Figure size 432x288 with 1 Axes>"
            ]
          },
          "metadata": {},
          "output_type": "display_data"
        }
      ]
    },
    {
      "cell_type": "markdown",
      "metadata": {
        "id": "7O-WXp2S7e1t"
      },
      "source": [
        "###### Department wise toppers (horizantal bar graph or any visual representations of your choice)"
      ]
    },
    {
      "cell_type": "code",
      "metadata": {
        "id": "dRRGM4Xu7e1u",
        "outputId": "bfa9ca3c-28a4-4688-c188-f7ec4e88b49f"
      },
      "source": [
        "res=final.groupby(['Department'], sort=False)['CodeKata Score'].max()\n",
        "print(res)"
      ],
      "execution_count": null,
      "outputs": [
        {
          "name": "stdout",
          "output_type": "stream",
          "text": [
            "Department\n",
            "Computer Science and Engineering             24500\n",
            "Electronics and Communication Engineering    10040\n",
            "Electronics and Electrical Engineering       19400\n",
            "Name: CodeKata Score, dtype: int64\n"
          ]
        }
      ]
    },
    {
      "cell_type": "code",
      "metadata": {
        "id": "siojkMfd7e1v",
        "outputId": "40bcb62e-d0cd-437e-ee38-12a2dc8c8b4d"
      },
      "source": [
        "import matplotlib.pyplot as plt\n",
        "  \n",
        "X = [\"CSE\",\"ECE\",\"EEE\"]\n",
        "Y = [24500,10040,19400]\n",
        "  \n",
        "# Plot the data using bar() method\n",
        "plt.bar(X, Y, color='g')\n",
        "  \n",
        "# Show the plot\n",
        "plt.show()\n"
      ],
      "execution_count": null,
      "outputs": [
        {
          "data": {
            "image/png": "[encoded data removed]",
            "text/plain": [
              "<Figure size 432x288 with 1 Axes>"
            ]
          },
          "metadata": {
            "needs_background": "light"
          },
          "output_type": "display_data"
        }
      ]
    },
    {
      "cell_type": "code",
      "metadata": {
        "id": "GE8F0pPD7e1v"
      },
      "source": [
        ""
      ],
      "execution_count": null,
      "outputs": []
    }
  ]
}